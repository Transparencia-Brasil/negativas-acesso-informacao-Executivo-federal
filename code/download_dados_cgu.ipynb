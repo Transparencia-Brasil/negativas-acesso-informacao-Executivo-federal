{
 "cells": [
  {
   "cell_type": "markdown",
   "metadata": {},
   "source": [
    "## Setup"
   ]
  },
  {
   "cell_type": "code",
   "execution_count": 2,
   "metadata": {},
   "outputs": [],
   "source": [
    "import xml.etree.ElementTree as ET\n",
    "from lxml import etree\n",
    "import pandas as pandas\n",
    "import numpy as np\n",
    "from datetime import datetime, timedelta"
   ]
  },
  {
   "cell_type": "code",
   "execution_count": null,
   "metadata": {},
   "outputs": [],
   "source": []
  },
  {
   "cell_type": "markdown",
   "metadata": {},
   "source": [
    "## Pedidos"
   ]
  },
  {
   "cell_type": "code",
   "execution_count": 2,
   "metadata": {},
   "outputs": [],
   "source": [
    "# dados de 26/07/2020"
   ]
  },
  {
   "cell_type": "markdown",
   "metadata": {},
   "source": []
  },
  {
   "cell_type": "markdown",
   "metadata": {},
   "source": [
    "### Pedidos - 2016"
   ]
  },
  {
   "cell_type": "code",
   "execution_count": 10,
   "metadata": {},
   "outputs": [
    {
     "name": "stdout",
     "output_type": "stream",
     "text": [
      "<class 'pandas.core.frame.DataFrame'>\n",
      "RangeIndex: 82658 entries, 0 to 82657\n",
      "Data columns (total 22 columns):\n",
      " #   Column                                Non-Null Count  Dtype \n",
      "---  ------                                --------------  ----- \n",
      " 0   IdPedido                              82658 non-null  object\n",
      " 1   ProtocoloPedido                       82658 non-null  object\n",
      " 2   OrgaoDestinatario                     82658 non-null  object\n",
      " 3   OrgaoSuperiorAssociadoaoDestinatario  40299 non-null  object\n",
      " 4   Situacao                              82658 non-null  object\n",
      " 5   DataRegistro                          82658 non-null  object\n",
      " 6   ResumoSolicitacao                     82658 non-null  object\n",
      " 7   DetalhamentoSolicitacao               82658 non-null  object\n",
      " 8   PrazoAtendimento                      82658 non-null  object\n",
      " 9   FoiProrrogado                         82658 non-null  object\n",
      " 10  FoiReencaminhado                      82658 non-null  object\n",
      " 11  FormaResposta                         82658 non-null  object\n",
      " 12  OrigemSolicitacao                     82658 non-null  object\n",
      " 13  IdSolicitante                         82658 non-null  object\n",
      " 14  CategoriaPedido                       82658 non-null  object\n",
      " 15  SubCategoriaPedido                    82658 non-null  object\n",
      " 16  NumeroPerguntas                       82658 non-null  object\n",
      " 17  DataResposta                          82658 non-null  object\n",
      " 18  Resposta                              82658 non-null  object\n",
      " 19  TipoResposta                          82658 non-null  object\n",
      " 20  ClassificacaoTipoResposta             82658 non-null  object\n",
      " 21  id_ano                                82658 non-null  object\n",
      "dtypes: object(22)\n",
      "memory usage: 13.9+ MB\n"
     ]
    }
   ],
   "source": [
    "f = open('/data/20200718_Pedidos_xml_2016.xml','r',encoding='utf-16')\n",
    "xml_data = f.read()\n",
    "xml_data = xml_data.replace('&','')\n",
    "\n",
    "root = ET.XML(xml_data)\n",
    "pedidos = []\n",
    "for obj in list(root):\n",
    "    pedidos.append(obj.attrib)\n",
    "    \n",
    "df_2016 = pandas.DataFrame(pedidos)\n",
    "df_2016['id_ano']= df_2016['IdPedido']+'_2016'\n",
    "\n",
    "df_2016 = df_2016[['IdPedido', \n",
    "                   'ProtocoloPedido', \n",
    "                   'OrgaoDestinatario', \n",
    "                   'OrgaoSuperiorAssociadoaoDestinatario', \n",
    "                   'Situacao', \n",
    "                   'DataRegistro', \n",
    "                   'ResumoSolicitacao', \n",
    "                   'DetalhamentoSolicitacao', \n",
    "                   'PrazoAtendimento', \n",
    "                   'FoiProrrogado', \n",
    "                   'FoiReencaminhado', \n",
    "                   'FormaResposta', \n",
    "                   'OrigemSolicitacao', \n",
    "                   'IdSolicitante', \n",
    "                   'CategoriaPedido', \n",
    "                   'SubCategoriaPedido', \n",
    "                   'NumeroPerguntas', \n",
    "                   'DataResposta', \n",
    "                   'Resposta', \n",
    "                   'TipoResposta', \n",
    "                   'ClassificacaoTipoResposta', \n",
    "                   'id_ano']]\n",
    "\n",
    "\n",
    "df_2016.info()"
   ]
  },
  {
   "cell_type": "code",
   "execution_count": null,
   "metadata": {},
   "outputs": [],
   "source": [
    " "
   ]
  },
  {
   "cell_type": "markdown",
   "metadata": {},
   "source": [
    "### Pedidos - 2017"
   ]
  },
  {
   "cell_type": "code",
   "execution_count": 11,
   "metadata": {},
   "outputs": [
    {
     "name": "stdout",
     "output_type": "stream",
     "text": [
      "<class 'pandas.core.frame.DataFrame'>\n",
      "RangeIndex: 92737 entries, 0 to 92736\n",
      "Data columns (total 22 columns):\n",
      " #   Column                                Non-Null Count  Dtype \n",
      "---  ------                                --------------  ----- \n",
      " 0   IdPedido                              92737 non-null  object\n",
      " 1   ProtocoloPedido                       92737 non-null  object\n",
      " 2   OrgaoDestinatario                     92737 non-null  object\n",
      " 3   OrgaoSuperiorAssociadoaoDestinatario  48594 non-null  object\n",
      " 4   Situacao                              92737 non-null  object\n",
      " 5   DataRegistro                          92737 non-null  object\n",
      " 6   ResumoSolicitacao                     92737 non-null  object\n",
      " 7   DetalhamentoSolicitacao               92737 non-null  object\n",
      " 8   PrazoAtendimento                      92737 non-null  object\n",
      " 9   FoiProrrogado                         92737 non-null  object\n",
      " 10  FoiReencaminhado                      92737 non-null  object\n",
      " 11  FormaResposta                         92737 non-null  object\n",
      " 12  OrigemSolicitacao                     92737 non-null  object\n",
      " 13  IdSolicitante                         92737 non-null  object\n",
      " 14  CategoriaPedido                       92737 non-null  object\n",
      " 15  SubCategoriaPedido                    92737 non-null  object\n",
      " 16  NumeroPerguntas                       92737 non-null  object\n",
      " 17  DataResposta                          92737 non-null  object\n",
      " 18  Resposta                              92737 non-null  object\n",
      " 19  TipoResposta                          92737 non-null  object\n",
      " 20  ClassificacaoTipoResposta             92737 non-null  object\n",
      " 21  id_ano                                92737 non-null  object\n",
      "dtypes: object(22)\n",
      "memory usage: 15.6+ MB\n"
     ]
    }
   ],
   "source": [
    "f = open('/data/20200718_Pedidos_xml_2017.xml','r',encoding='utf-16')\n",
    "xml_data = f.read()\n",
    "xml_data = xml_data.replace('&','')\n",
    "\n",
    "root = ET.XML(xml_data)\n",
    "pedidos = []\n",
    "for obj in list(root):\n",
    "    pedidos.append(obj.attrib)\n",
    "    \n",
    "df_2017 = pandas.DataFrame(pedidos)\n",
    "df_2017['id_ano']= df_2017['IdPedido']+'_2017'\n",
    "\n",
    "df_2017 = df_2017[['IdPedido', \n",
    "                   'ProtocoloPedido', \n",
    "                   'OrgaoDestinatario', \n",
    "                   'OrgaoSuperiorAssociadoaoDestinatario', \n",
    "                   'Situacao', \n",
    "                   'DataRegistro', \n",
    "                   'ResumoSolicitacao', \n",
    "                   'DetalhamentoSolicitacao', \n",
    "                   'PrazoAtendimento', \n",
    "                   'FoiProrrogado', \n",
    "                   'FoiReencaminhado', \n",
    "                   'FormaResposta', \n",
    "                   'OrigemSolicitacao', \n",
    "                   'IdSolicitante', \n",
    "                   'CategoriaPedido', \n",
    "                   'SubCategoriaPedido', \n",
    "                   'NumeroPerguntas', \n",
    "                   'DataResposta', \n",
    "                   'Resposta', \n",
    "                   'TipoResposta', \n",
    "                   'ClassificacaoTipoResposta', \n",
    "                   'id_ano']]\n",
    "\n",
    "df_2017.info()"
   ]
  },
  {
   "cell_type": "code",
   "execution_count": null,
   "metadata": {},
   "outputs": [],
   "source": []
  },
  {
   "cell_type": "markdown",
   "metadata": {},
   "source": [
    "### Pedidos - 2018"
   ]
  },
  {
   "cell_type": "code",
   "execution_count": 13,
   "metadata": {},
   "outputs": [
    {
     "name": "stdout",
     "output_type": "stream",
     "text": [
      "<class 'pandas.core.frame.DataFrame'>\n",
      "RangeIndex: 95627 entries, 0 to 95626\n",
      "Data columns (total 22 columns):\n",
      " #   Column                                Non-Null Count  Dtype \n",
      "---  ------                                --------------  ----- \n",
      " 0   IdPedido                              95627 non-null  object\n",
      " 1   ProtocoloPedido                       95627 non-null  object\n",
      " 2   OrgaoDestinatario                     95627 non-null  object\n",
      " 3   OrgaoSuperiorAssociadoaoDestinatario  50812 non-null  object\n",
      " 4   Situacao                              95627 non-null  object\n",
      " 5   DataRegistro                          95627 non-null  object\n",
      " 6   ResumoSolicitacao                     95627 non-null  object\n",
      " 7   DetalhamentoSolicitacao               95627 non-null  object\n",
      " 8   PrazoAtendimento                      95627 non-null  object\n",
      " 9   FoiProrrogado                         95627 non-null  object\n",
      " 10  FoiReencaminhado                      95627 non-null  object\n",
      " 11  FormaResposta                         95627 non-null  object\n",
      " 12  OrigemSolicitacao                     95627 non-null  object\n",
      " 13  IdSolicitante                         95627 non-null  object\n",
      " 14  CategoriaPedido                       95627 non-null  object\n",
      " 15  SubCategoriaPedido                    95627 non-null  object\n",
      " 16  NumeroPerguntas                       95627 non-null  object\n",
      " 17  DataResposta                          95627 non-null  object\n",
      " 18  Resposta                              95627 non-null  object\n",
      " 19  TipoResposta                          95627 non-null  object\n",
      " 20  ClassificacaoTipoResposta             95627 non-null  object\n",
      " 21  id_ano                                95627 non-null  object\n",
      "dtypes: object(22)\n",
      "memory usage: 16.1+ MB\n"
     ]
    }
   ],
   "source": [
    "f = open('/data/20200311_Pedidos_xml_2018.xml','r',encoding='utf-16')\n",
    "xml_data = f.read()\n",
    "xml_data = xml_data.replace('&','')\n",
    "\n",
    "root = ET.XML(xml_data)\n",
    "pedidos = []\n",
    "for obj in list(root):\n",
    "    pedidos.append(obj.attrib)\n",
    "    \n",
    "df_2018 = pandas.DataFrame(pedidos)\n",
    "df_2018['id_ano']= df_2018['IdPedido']+'_2018'\n",
    "\n",
    "df_2018 = df_2018[['IdPedido', \n",
    "                   'ProtocoloPedido', \n",
    "                   'OrgaoDestinatario', \n",
    "                   'OrgaoSuperiorAssociadoaoDestinatario', \n",
    "                   'Situacao', \n",
    "                   'DataRegistro', \n",
    "                   'ResumoSolicitacao', \n",
    "                   'DetalhamentoSolicitacao', \n",
    "                   'PrazoAtendimento', \n",
    "                   'FoiProrrogado', \n",
    "                   'FoiReencaminhado', \n",
    "                   'FormaResposta', \n",
    "                   'OrigemSolicitacao', \n",
    "                   'IdSolicitante', \n",
    "                   'CategoriaPedido', \n",
    "                   'SubCategoriaPedido', \n",
    "                   'NumeroPerguntas', \n",
    "                   'DataResposta', \n",
    "                   'Resposta', \n",
    "                   'TipoResposta', \n",
    "                   'ClassificacaoTipoResposta', \n",
    "                   'id_ano']]\n",
    "\n",
    "df_2018.info()"
   ]
  },
  {
   "cell_type": "code",
   "execution_count": null,
   "metadata": {},
   "outputs": [],
   "source": []
  },
  {
   "cell_type": "markdown",
   "metadata": {},
   "source": [
    "### Pedidos - 2019"
   ]
  },
  {
   "cell_type": "code",
   "execution_count": 15,
   "metadata": {},
   "outputs": [
    {
     "name": "stdout",
     "output_type": "stream",
     "text": [
      "<class 'pandas.core.frame.DataFrame'>\n",
      "RangeIndex: 102195 entries, 0 to 102194\n",
      "Data columns (total 22 columns):\n",
      " #   Column                                Non-Null Count   Dtype \n",
      "---  ------                                --------------   ----- \n",
      " 0   IdPedido                              102195 non-null  object\n",
      " 1   ProtocoloPedido                       102195 non-null  object\n",
      " 2   OrgaoDestinatario                     102195 non-null  object\n",
      " 3   OrgaoSuperiorAssociadoaoDestinatario  56709 non-null   object\n",
      " 4   Situacao                              102195 non-null  object\n",
      " 5   DataRegistro                          102195 non-null  object\n",
      " 6   ResumoSolicitacao                     102195 non-null  object\n",
      " 7   DetalhamentoSolicitacao               102195 non-null  object\n",
      " 8   PrazoAtendimento                      102195 non-null  object\n",
      " 9   FoiProrrogado                         102195 non-null  object\n",
      " 10  FoiReencaminhado                      102195 non-null  object\n",
      " 11  FormaResposta                         102195 non-null  object\n",
      " 12  OrigemSolicitacao                     102195 non-null  object\n",
      " 13  IdSolicitante                         102195 non-null  object\n",
      " 14  CategoriaPedido                       102195 non-null  object\n",
      " 15  SubCategoriaPedido                    102195 non-null  object\n",
      " 16  NumeroPerguntas                       102195 non-null  object\n",
      " 17  DataResposta                          102195 non-null  object\n",
      " 18  Resposta                              102195 non-null  object\n",
      " 19  TipoResposta                          102195 non-null  object\n",
      " 20  ClassificacaoTipoResposta             102195 non-null  object\n",
      " 21  id_ano                                102195 non-null  object\n",
      "dtypes: object(22)\n",
      "memory usage: 17.2+ MB\n"
     ]
    }
   ],
   "source": [
    "f = open('/data/20200718_Pedidos_xml_2019.xml','r',encoding='utf-16')\n",
    "xml_data = f.read()\n",
    "xml_data = xml_data.replace('&','')\n",
    "\n",
    "root = ET.XML(xml_data)\n",
    "pedidos = []\n",
    "for obj in list(root):\n",
    "    pedidos.append(obj.attrib)\n",
    "    \n",
    "df_2019 = pandas.DataFrame(pedidos)\n",
    "df_2019['id_ano']= df_2019['IdPedido']+'_2019'\n",
    "\n",
    "df_2019 = df_2019[['IdPedido', \n",
    "                   'ProtocoloPedido', \n",
    "                   'OrgaoDestinatario', \n",
    "                   'OrgaoSuperiorAssociadoaoDestinatario', \n",
    "                   'Situacao', \n",
    "                   'DataRegistro', \n",
    "                   'ResumoSolicitacao', \n",
    "                   'DetalhamentoSolicitacao', \n",
    "                   'PrazoAtendimento', \n",
    "                   'FoiProrrogado', \n",
    "                   'FoiReencaminhado', \n",
    "                   'FormaResposta', \n",
    "                   'OrigemSolicitacao', \n",
    "                   'IdSolicitante', \n",
    "                   'CategoriaPedido', \n",
    "                   'SubCategoriaPedido', \n",
    "                   'NumeroPerguntas', \n",
    "                   'DataResposta', \n",
    "                   'Resposta', \n",
    "                   'TipoResposta', \n",
    "                   'ClassificacaoTipoResposta', \n",
    "                   'id_ano']]\n",
    "\n",
    "\n",
    "df_2019.info()"
   ]
  },
  {
   "cell_type": "code",
   "execution_count": null,
   "metadata": {},
   "outputs": [],
   "source": []
  },
  {
   "cell_type": "markdown",
   "metadata": {},
   "source": [
    "### Pedidos - 2020"
   ]
  },
  {
   "cell_type": "code",
   "execution_count": 17,
   "metadata": {},
   "outputs": [
    {
     "name": "stdout",
     "output_type": "stream",
     "text": [
      "<class 'pandas.core.frame.DataFrame'>\n",
      "RangeIndex: 66756 entries, 0 to 66755\n",
      "Data columns (total 22 columns):\n",
      " #   Column                                Non-Null Count  Dtype \n",
      "---  ------                                --------------  ----- \n",
      " 0   IdPedido                              66756 non-null  object\n",
      " 1   ProtocoloPedido                       66756 non-null  object\n",
      " 2   OrgaoDestinatario                     66756 non-null  object\n",
      " 3   OrgaoSuperiorAssociadoaoDestinatario  30998 non-null  object\n",
      " 4   Situacao                              66756 non-null  object\n",
      " 5   DataRegistro                          66756 non-null  object\n",
      " 6   ResumoSolicitacao                     66756 non-null  object\n",
      " 7   DetalhamentoSolicitacao               66756 non-null  object\n",
      " 8   PrazoAtendimento                      66756 non-null  object\n",
      " 9   FoiProrrogado                         66756 non-null  object\n",
      " 10  FoiReencaminhado                      66756 non-null  object\n",
      " 11  FormaResposta                         66756 non-null  object\n",
      " 12  OrigemSolicitacao                     66756 non-null  object\n",
      " 13  IdSolicitante                         66756 non-null  object\n",
      " 14  CategoriaPedido                       66756 non-null  object\n",
      " 15  SubCategoriaPedido                    66756 non-null  object\n",
      " 16  NumeroPerguntas                       66756 non-null  object\n",
      " 17  DataResposta                          66756 non-null  object\n",
      " 18  Resposta                              66756 non-null  object\n",
      " 19  TipoResposta                          66756 non-null  object\n",
      " 20  ClassificacaoTipoResposta             66756 non-null  object\n",
      " 21  id_ano                                66756 non-null  object\n",
      "dtypes: object(22)\n",
      "memory usage: 11.2+ MB\n"
     ]
    }
   ],
   "source": [
    "f = open('/data/20200722_Pedidos_xml_2020.xml','r',encoding='utf-16')\n",
    "xml_data = f.read()\n",
    "xml_data = xml_data.replace('&','')\n",
    "\n",
    "root = ET.XML(xml_data)\n",
    "pedidos = []\n",
    "for obj in list(root):\n",
    "    pedidos.append(obj.attrib)\n",
    "    \n",
    "df_2020 = pandas.DataFrame(pedidos)\n",
    "df_2020['id_ano']= df_2020['IdPedido']+'_2020'\n",
    "\n",
    "df_2020 = df_2020[['IdPedido', \n",
    "                   'ProtocoloPedido', \n",
    "                   'OrgaoDestinatario', \n",
    "                   'OrgaoSuperiorAssociadoaoDestinatario', \n",
    "                   'Situacao', \n",
    "                   'DataRegistro', \n",
    "                   'ResumoSolicitacao', \n",
    "                   'DetalhamentoSolicitacao', \n",
    "                   'PrazoAtendimento', \n",
    "                   'FoiProrrogado', \n",
    "                   'FoiReencaminhado', \n",
    "                   'FormaResposta', \n",
    "                   'OrigemSolicitacao', \n",
    "                   'IdSolicitante', \n",
    "                   'CategoriaPedido', \n",
    "                   'SubCategoriaPedido', \n",
    "                   'NumeroPerguntas', \n",
    "                   'DataResposta', \n",
    "                   'Resposta', \n",
    "                   'TipoResposta', \n",
    "                   'ClassificacaoTipoResposta', \n",
    "                   'id_ano']]\n",
    "\n",
    "\n",
    "df_2020.info()"
   ]
  },
  {
   "cell_type": "code",
   "execution_count": null,
   "metadata": {},
   "outputs": [],
   "source": []
  },
  {
   "cell_type": "markdown",
   "metadata": {},
   "source": [
    "### `xml` to `csv` em Pedidos"
   ]
  },
  {
   "cell_type": "code",
   "execution_count": 18,
   "metadata": {},
   "outputs": [],
   "source": [
    "frames = [df_2016, df_2017, df_2018, df_2019, df_2020]"
   ]
  },
  {
   "cell_type": "code",
   "execution_count": 19,
   "metadata": {},
   "outputs": [],
   "source": [
    "df_total = pandas.concat(frames)"
   ]
  },
  {
   "cell_type": "code",
   "execution_count": 20,
   "metadata": {},
   "outputs": [
    {
     "name": "stdout",
     "output_type": "stream",
     "text": [
      "<class 'pandas.core.frame.DataFrame'>\n",
      "Int64Index: 439973 entries, 0 to 66755\n",
      "Data columns (total 22 columns):\n",
      " #   Column                                Non-Null Count   Dtype \n",
      "---  ------                                --------------   ----- \n",
      " 0   IdPedido                              439973 non-null  object\n",
      " 1   ProtocoloPedido                       439973 non-null  object\n",
      " 2   OrgaoDestinatario                     439973 non-null  object\n",
      " 3   OrgaoSuperiorAssociadoaoDestinatario  227412 non-null  object\n",
      " 4   Situacao                              439973 non-null  object\n",
      " 5   DataRegistro                          439973 non-null  object\n",
      " 6   ResumoSolicitacao                     439973 non-null  object\n",
      " 7   DetalhamentoSolicitacao               439973 non-null  object\n",
      " 8   PrazoAtendimento                      439973 non-null  object\n",
      " 9   FoiProrrogado                         439973 non-null  object\n",
      " 10  FoiReencaminhado                      439973 non-null  object\n",
      " 11  FormaResposta                         439973 non-null  object\n",
      " 12  OrigemSolicitacao                     439973 non-null  object\n",
      " 13  IdSolicitante                         439973 non-null  object\n",
      " 14  CategoriaPedido                       439973 non-null  object\n",
      " 15  SubCategoriaPedido                    439973 non-null  object\n",
      " 16  NumeroPerguntas                       439973 non-null  object\n",
      " 17  DataResposta                          439973 non-null  object\n",
      " 18  Resposta                              439973 non-null  object\n",
      " 19  TipoResposta                          439973 non-null  object\n",
      " 20  ClassificacaoTipoResposta             439973 non-null  object\n",
      " 21  id_ano                                439973 non-null  object\n",
      "dtypes: object(22)\n",
      "memory usage: 77.2+ MB\n"
     ]
    }
   ],
   "source": [
    "df_total.info()"
   ]
  },
  {
   "cell_type": "code",
   "execution_count": 23,
   "metadata": {},
   "outputs": [],
   "source": [
    "df_total.to_csv(\"/data/pedidos_cgu.csv\", index=False) "
   ]
  },
  {
   "cell_type": "code",
   "execution_count": null,
   "metadata": {},
   "outputs": [],
   "source": []
  },
  {
   "cell_type": "markdown",
   "metadata": {},
   "source": [
    "### Carrega Total - Pedidos"
   ]
  },
  {
   "cell_type": "code",
   "execution_count": 6,
   "metadata": {},
   "outputs": [],
   "source": [
    "kwargs = {'sep': ',', 'dtype': str, 'encoding': 'utf-8'}\n",
    "df_total = pandas.read_csv(\"/data/pedidos_cgu.csv\", **kwargs)"
   ]
  },
  {
   "cell_type": "code",
   "execution_count": 8,
   "metadata": {},
   "outputs": [
    {
     "name": "stdout",
     "output_type": "stream",
     "text": [
      "<class 'pandas.core.frame.DataFrame'>\n",
      "RangeIndex: 439973 entries, 0 to 439972\n",
      "Data columns (total 22 columns):\n",
      " #   Column                                Non-Null Count   Dtype \n",
      "---  ------                                --------------   ----- \n",
      " 0   IdPedido                              439973 non-null  object\n",
      " 1   ProtocoloPedido                       439973 non-null  object\n",
      " 2   OrgaoDestinatario                     439973 non-null  object\n",
      " 3   OrgaoSuperiorAssociadoaoDestinatario  227412 non-null  object\n",
      " 4   Situacao                              439973 non-null  object\n",
      " 5   DataRegistro                          439973 non-null  object\n",
      " 6   ResumoSolicitacao                     439970 non-null  object\n",
      " 7   DetalhamentoSolicitacao               439969 non-null  object\n",
      " 8   PrazoAtendimento                      439973 non-null  object\n",
      " 9   FoiProrrogado                         439973 non-null  object\n",
      " 10  FoiReencaminhado                      439973 non-null  object\n",
      " 11  FormaResposta                         439973 non-null  object\n",
      " 12  OrigemSolicitacao                     439973 non-null  object\n",
      " 13  IdSolicitante                         439973 non-null  object\n",
      " 14  CategoriaPedido                       439973 non-null  object\n",
      " 15  SubCategoriaPedido                    439973 non-null  object\n",
      " 16  NumeroPerguntas                       439973 non-null  object\n",
      " 17  DataResposta                          439973 non-null  object\n",
      " 18  Resposta                              439968 non-null  object\n",
      " 19  TipoResposta                          439973 non-null  object\n",
      " 20  ClassificacaoTipoResposta             395912 non-null  object\n",
      " 21  id_ano                                439973 non-null  object\n",
      "dtypes: object(22)\n",
      "memory usage: 73.8+ MB\n"
     ]
    }
   ],
   "source": [
    "df_total.info()"
   ]
  },
  {
   "cell_type": "markdown",
   "metadata": {},
   "source": [
    "## Recursos"
   ]
  },
  {
   "cell_type": "code",
   "execution_count": null,
   "metadata": {},
   "outputs": [],
   "source": []
  },
  {
   "cell_type": "markdown",
   "metadata": {},
   "source": [
    "### Recursos - 2016"
   ]
  },
  {
   "cell_type": "code",
   "execution_count": 13,
   "metadata": {},
   "outputs": [
    {
     "name": "stdout",
     "output_type": "stream",
     "text": [
      "<class 'pandas.core.frame.DataFrame'>\n",
      "RangeIndex: 8111 entries, 0 to 8110\n",
      "Data columns (total 18 columns):\n",
      " #   Column                                Non-Null Count  Dtype \n",
      "---  ------                                --------------  ----- \n",
      " 0   IdRecurso                             8111 non-null   object\n",
      " 1   DescRecurso                           8111 non-null   object\n",
      " 2   RespostaRecurso                       8111 non-null   object\n",
      " 3   IdPedido                              8111 non-null   object\n",
      " 4   IdSolicitante                         8111 non-null   object\n",
      " 5   ProtocoloPedido                       8111 non-null   object\n",
      " 6   OrgaoDestinatario                     8111 non-null   object\n",
      " 7   Instancia                             8111 non-null   object\n",
      " 8   Situacao                              8111 non-null   object\n",
      " 9   DataRegistro                          8111 non-null   object\n",
      " 10  PrazoAtendimento                      7840 non-null   object\n",
      " 11  OrigemSolicitacao                     8111 non-null   object\n",
      " 12  TipoRecurso                           8111 non-null   object\n",
      " 13  DataResposta                          8111 non-null   object\n",
      " 14  TipoResposta                          8111 non-null   object\n",
      " 15  IdRecursoPrecedente                   2655 non-null   object\n",
      " 16  OrgaoSuperiorAssociadoaoDestinatario  3257 non-null   object\n",
      " 17  id_ano                                8111 non-null   object\n",
      "dtypes: object(18)\n",
      "memory usage: 1.1+ MB\n"
     ]
    }
   ],
   "source": [
    "f = open('/data/20200718_Recursos_xml_2016.xml','r',encoding='utf-16')\n",
    "xml_data = f.read()\n",
    "xml_data = xml_data.replace('&','')\n",
    "\n",
    "root = ET.XML(xml_data)\n",
    "recursos = []\n",
    "for obj in list(root):\n",
    "    recursos.append(obj.attrib)\n",
    "    \n",
    "df_2016_recursos = pandas.DataFrame(recursos)\n",
    "df_2016_recursos['id_ano']= df_2016_recursos['IdPedido']+'_2016'\n",
    "df_2016_recursos.info()"
   ]
  },
  {
   "cell_type": "code",
   "execution_count": null,
   "metadata": {},
   "outputs": [],
   "source": []
  },
  {
   "cell_type": "markdown",
   "metadata": {},
   "source": [
    "### Recursos - 2017"
   ]
  },
  {
   "cell_type": "code",
   "execution_count": 14,
   "metadata": {},
   "outputs": [
    {
     "name": "stdout",
     "output_type": "stream",
     "text": [
      "<class 'pandas.core.frame.DataFrame'>\n",
      "RangeIndex: 10166 entries, 0 to 10165\n",
      "Data columns (total 18 columns):\n",
      " #   Column                                Non-Null Count  Dtype \n",
      "---  ------                                --------------  ----- \n",
      " 0   IdRecurso                             10166 non-null  object\n",
      " 1   DescRecurso                           10166 non-null  object\n",
      " 2   RespostaRecurso                       10166 non-null  object\n",
      " 3   IdPedido                              10166 non-null  object\n",
      " 4   IdSolicitante                         10166 non-null  object\n",
      " 5   ProtocoloPedido                       10166 non-null  object\n",
      " 6   OrgaoDestinatario                     10166 non-null  object\n",
      " 7   Instancia                             10166 non-null  object\n",
      " 8   Situacao                              10166 non-null  object\n",
      " 9   DataRegistro                          10166 non-null  object\n",
      " 10  PrazoAtendimento                      9906 non-null   object\n",
      " 11  OrigemSolicitacao                     10166 non-null  object\n",
      " 12  TipoRecurso                           10166 non-null  object\n",
      " 13  DataResposta                          10166 non-null  object\n",
      " 14  TipoResposta                          10163 non-null  object\n",
      " 15  IdRecursoPrecedente                   3461 non-null   object\n",
      " 16  OrgaoSuperiorAssociadoaoDestinatario  4662 non-null   object\n",
      " 17  id_ano                                10166 non-null  object\n",
      "dtypes: object(18)\n",
      "memory usage: 1.4+ MB\n"
     ]
    }
   ],
   "source": [
    "f = open('/data/20200718_Recursos_xml_2017.xml','r',encoding='utf-16')\n",
    "xml_data = f.read()\n",
    "xml_data = xml_data.replace('&','')\n",
    "\n",
    "root = ET.XML(xml_data)\n",
    "recursos = []\n",
    "for obj in list(root):\n",
    "    recursos.append(obj.attrib)\n",
    "    \n",
    "df_2017_recursos = pandas.DataFrame(recursos)\n",
    "df_2017_recursos['id_ano']= df_2017_recursos['IdPedido']+'_2017'\n",
    "df_2017_recursos.info()"
   ]
  },
  {
   "cell_type": "code",
   "execution_count": null,
   "metadata": {},
   "outputs": [],
   "source": []
  },
  {
   "cell_type": "markdown",
   "metadata": {},
   "source": [
    "### Recursos - 2018"
   ]
  },
  {
   "cell_type": "code",
   "execution_count": 15,
   "metadata": {},
   "outputs": [
    {
     "name": "stdout",
     "output_type": "stream",
     "text": [
      "<class 'pandas.core.frame.DataFrame'>\n",
      "RangeIndex: 10162 entries, 0 to 10161\n",
      "Data columns (total 18 columns):\n",
      " #   Column                                Non-Null Count  Dtype \n",
      "---  ------                                --------------  ----- \n",
      " 0   IdRecurso                             10162 non-null  object\n",
      " 1   DescRecurso                           10162 non-null  object\n",
      " 2   RespostaRecurso                       10162 non-null  object\n",
      " 3   IdPedido                              10162 non-null  object\n",
      " 4   IdSolicitante                         10162 non-null  object\n",
      " 5   ProtocoloPedido                       10162 non-null  object\n",
      " 6   OrgaoDestinatario                     10162 non-null  object\n",
      " 7   Instancia                             10162 non-null  object\n",
      " 8   Situacao                              10162 non-null  object\n",
      " 9   DataRegistro                          10162 non-null  object\n",
      " 10  PrazoAtendimento                      9895 non-null   object\n",
      " 11  OrigemSolicitacao                     10162 non-null  object\n",
      " 12  TipoRecurso                           10162 non-null  object\n",
      " 13  DataResposta                          10162 non-null  object\n",
      " 14  TipoResposta                          10159 non-null  object\n",
      " 15  IdRecursoPrecedente                   3263 non-null   object\n",
      " 16  OrgaoSuperiorAssociadoaoDestinatario  4518 non-null   object\n",
      " 17  id_ano                                10162 non-null  object\n",
      "dtypes: object(18)\n",
      "memory usage: 1.4+ MB\n"
     ]
    }
   ],
   "source": [
    "f = open('/data/20200311_Recursos_xml_2018.xml','r',encoding='utf-16')\n",
    "xml_data = f.read()\n",
    "xml_data = xml_data.replace('&','')\n",
    "\n",
    "root = ET.XML(xml_data)\n",
    "recursos = []\n",
    "for obj in list(root):\n",
    "    recursos.append(obj.attrib)\n",
    "    \n",
    "df_2018_recursos = pandas.DataFrame(recursos)\n",
    "df_2018_recursos['id_ano']= df_2018_recursos['IdPedido']+'_2018'\n",
    "df_2018_recursos.info()"
   ]
  },
  {
   "cell_type": "code",
   "execution_count": null,
   "metadata": {},
   "outputs": [],
   "source": []
  },
  {
   "cell_type": "markdown",
   "metadata": {},
   "source": [
    "### Recursos - 2019"
   ]
  },
  {
   "cell_type": "code",
   "execution_count": 16,
   "metadata": {},
   "outputs": [
    {
     "name": "stdout",
     "output_type": "stream",
     "text": [
      "<class 'pandas.core.frame.DataFrame'>\n",
      "RangeIndex: 11480 entries, 0 to 11479\n",
      "Data columns (total 18 columns):\n",
      " #   Column                                Non-Null Count  Dtype \n",
      "---  ------                                --------------  ----- \n",
      " 0   IdRecurso                             11480 non-null  object\n",
      " 1   DescRecurso                           11480 non-null  object\n",
      " 2   RespostaRecurso                       11480 non-null  object\n",
      " 3   IdPedido                              11480 non-null  object\n",
      " 4   IdSolicitante                         11480 non-null  object\n",
      " 5   ProtocoloPedido                       11480 non-null  object\n",
      " 6   OrgaoDestinatario                     11480 non-null  object\n",
      " 7   Instancia                             11480 non-null  object\n",
      " 8   Situacao                              11480 non-null  object\n",
      " 9   DataRegistro                          11480 non-null  object\n",
      " 10  PrazoAtendimento                      11480 non-null  object\n",
      " 11  OrigemSolicitacao                     11480 non-null  object\n",
      " 12  TipoRecurso                           11480 non-null  object\n",
      " 13  DataResposta                          11480 non-null  object\n",
      " 14  TipoResposta                          11477 non-null  object\n",
      " 15  IdRecursoPrecedente                   3730 non-null   object\n",
      " 16  OrgaoSuperiorAssociadoaoDestinatario  5412 non-null   object\n",
      " 17  id_ano                                11480 non-null  object\n",
      "dtypes: object(18)\n",
      "memory usage: 1.6+ MB\n"
     ]
    }
   ],
   "source": [
    "f = open('/data/20200718_Recursos_xml_2019.xml','r',encoding='utf-16')\n",
    "xml_data = f.read()\n",
    "xml_data = xml_data.replace('&','')\n",
    "\n",
    "root = ET.XML(xml_data)\n",
    "recursos = []\n",
    "for obj in list(root):\n",
    "    recursos.append(obj.attrib)\n",
    "    \n",
    "df_2019_recursos = pandas.DataFrame(recursos)\n",
    "df_2019_recursos['id_ano']= df_2019_recursos['IdPedido']+'_2019'\n",
    "df_2019_recursos.info()"
   ]
  },
  {
   "cell_type": "code",
   "execution_count": null,
   "metadata": {},
   "outputs": [],
   "source": []
  },
  {
   "cell_type": "markdown",
   "metadata": {},
   "source": [
    "### Recursos - 2020"
   ]
  },
  {
   "cell_type": "code",
   "execution_count": 17,
   "metadata": {},
   "outputs": [
    {
     "name": "stdout",
     "output_type": "stream",
     "text": [
      "<class 'pandas.core.frame.DataFrame'>\n",
      "RangeIndex: 6369 entries, 0 to 6368\n",
      "Data columns (total 18 columns):\n",
      " #   Column                                Non-Null Count  Dtype \n",
      "---  ------                                --------------  ----- \n",
      " 0   IdRecurso                             6369 non-null   object\n",
      " 1   DescRecurso                           6369 non-null   object\n",
      " 2   RespostaRecurso                       6369 non-null   object\n",
      " 3   IdPedido                              6369 non-null   object\n",
      " 4   IdSolicitante                         6369 non-null   object\n",
      " 5   ProtocoloPedido                       6369 non-null   object\n",
      " 6   OrgaoDestinatario                     6369 non-null   object\n",
      " 7   Instancia                             6369 non-null   object\n",
      " 8   Situacao                              6369 non-null   object\n",
      " 9   DataRegistro                          6369 non-null   object\n",
      " 10  PrazoAtendimento                      6369 non-null   object\n",
      " 11  OrigemSolicitacao                     6369 non-null   object\n",
      " 12  TipoRecurso                           6369 non-null   object\n",
      " 13  DataResposta                          6369 non-null   object\n",
      " 14  TipoResposta                          6369 non-null   object\n",
      " 15  IdRecursoPrecedente                   1617 non-null   object\n",
      " 16  OrgaoSuperiorAssociadoaoDestinatario  2959 non-null   object\n",
      " 17  id_ano                                6369 non-null   object\n",
      "dtypes: object(18)\n",
      "memory usage: 895.8+ KB\n"
     ]
    }
   ],
   "source": [
    "f = open('/data/20200722_Recursos_xml_2020.xml','r',encoding='utf-16')\n",
    "xml_data = f.read()\n",
    "xml_data = xml_data.replace('&','')\n",
    "\n",
    "root = ET.XML(xml_data)\n",
    "recursos = []\n",
    "for obj in list(root):\n",
    "    recursos.append(obj.attrib)\n",
    "    \n",
    "df_2020_recursos = pandas.DataFrame(recursos)\n",
    "df_2020_recursos['id_ano']= df_2020_recursos['IdPedido']+'_2020'\n",
    "df_2020_recursos.info()"
   ]
  },
  {
   "cell_type": "code",
   "execution_count": null,
   "metadata": {},
   "outputs": [],
   "source": []
  },
  {
   "cell_type": "markdown",
   "metadata": {},
   "source": [
    "### `xml` to `csv` para Recursos"
   ]
  },
  {
   "cell_type": "code",
   "execution_count": 18,
   "metadata": {},
   "outputs": [],
   "source": [
    "frames = [df_2016_recursos, df_2017_recursos, df_2018_recursos, df_2019_recursos, df_2020_recursos]"
   ]
  },
  {
   "cell_type": "code",
   "execution_count": 19,
   "metadata": {},
   "outputs": [],
   "source": [
    "df_total_recursos = pandas.concat(frames)"
   ]
  },
  {
   "cell_type": "code",
   "execution_count": 20,
   "metadata": {},
   "outputs": [
    {
     "name": "stdout",
     "output_type": "stream",
     "text": [
      "<class 'pandas.core.frame.DataFrame'>\n",
      "Int64Index: 46288 entries, 0 to 6368\n",
      "Data columns (total 18 columns):\n",
      " #   Column                                Non-Null Count  Dtype \n",
      "---  ------                                --------------  ----- \n",
      " 0   IdRecurso                             46288 non-null  object\n",
      " 1   DescRecurso                           46288 non-null  object\n",
      " 2   RespostaRecurso                       46288 non-null  object\n",
      " 3   IdPedido                              46288 non-null  object\n",
      " 4   IdSolicitante                         46288 non-null  object\n",
      " 5   ProtocoloPedido                       46288 non-null  object\n",
      " 6   OrgaoDestinatario                     46288 non-null  object\n",
      " 7   Instancia                             46288 non-null  object\n",
      " 8   Situacao                              46288 non-null  object\n",
      " 9   DataRegistro                          46288 non-null  object\n",
      " 10  PrazoAtendimento                      45490 non-null  object\n",
      " 11  OrigemSolicitacao                     46288 non-null  object\n",
      " 12  TipoRecurso                           46288 non-null  object\n",
      " 13  DataResposta                          46288 non-null  object\n",
      " 14  TipoResposta                          46279 non-null  object\n",
      " 15  IdRecursoPrecedente                   14726 non-null  object\n",
      " 16  OrgaoSuperiorAssociadoaoDestinatario  20808 non-null  object\n",
      " 17  id_ano                                46288 non-null  object\n",
      "dtypes: object(18)\n",
      "memory usage: 6.7+ MB\n"
     ]
    }
   ],
   "source": [
    "df_total_recursos.info()"
   ]
  },
  {
   "cell_type": "code",
   "execution_count": null,
   "metadata": {},
   "outputs": [],
   "source": []
  },
  {
   "cell_type": "code",
   "execution_count": 21,
   "metadata": {},
   "outputs": [],
   "source": [
    "df_total_recursos.to_csv(\"/data/recursos_cgu.csv\", index=False)"
   ]
  },
  {
   "cell_type": "code",
   "execution_count": null,
   "metadata": {},
   "outputs": [],
   "source": []
  },
  {
   "cell_type": "markdown",
   "metadata": {},
   "source": [
    "### Carrega Total - Recursos"
   ]
  },
  {
   "cell_type": "code",
   "execution_count": 22,
   "metadata": {},
   "outputs": [],
   "source": [
    "kwargs = {'sep': ',', 'dtype': str, 'encoding': 'utf-8'}\n",
    "df_total_recursos = pandas.read_csv(\"/data/recursos_cgu.csv\", **kwargs)"
   ]
  },
  {
   "cell_type": "code",
   "execution_count": 23,
   "metadata": {},
   "outputs": [
    {
     "name": "stdout",
     "output_type": "stream",
     "text": [
      "<class 'pandas.core.frame.DataFrame'>\n",
      "RangeIndex: 46288 entries, 0 to 46287\n",
      "Data columns (total 18 columns):\n",
      " #   Column                                Non-Null Count  Dtype \n",
      "---  ------                                --------------  ----- \n",
      " 0   IdRecurso                             46288 non-null  object\n",
      " 1   DescRecurso                           46287 non-null  object\n",
      " 2   RespostaRecurso                       46284 non-null  object\n",
      " 3   IdPedido                              46288 non-null  object\n",
      " 4   IdSolicitante                         46288 non-null  object\n",
      " 5   ProtocoloPedido                       46288 non-null  object\n",
      " 6   OrgaoDestinatario                     46288 non-null  object\n",
      " 7   Instancia                             46288 non-null  object\n",
      " 8   Situacao                              46288 non-null  object\n",
      " 9   DataRegistro                          46288 non-null  object\n",
      " 10  PrazoAtendimento                      45490 non-null  object\n",
      " 11  OrigemSolicitacao                     46288 non-null  object\n",
      " 12  TipoRecurso                           46288 non-null  object\n",
      " 13  DataResposta                          46288 non-null  object\n",
      " 14  TipoResposta                          46279 non-null  object\n",
      " 15  IdRecursoPrecedente                   14726 non-null  object\n",
      " 16  OrgaoSuperiorAssociadoaoDestinatario  20808 non-null  object\n",
      " 17  id_ano                                46288 non-null  object\n",
      "dtypes: object(18)\n",
      "memory usage: 6.4+ MB\n"
     ]
    }
   ],
   "source": [
    "df_total_recursos.info()"
   ]
  },
  {
   "cell_type": "code",
   "execution_count": null,
   "metadata": {},
   "outputs": [],
   "source": []
  }
 ],
 "metadata": {
  "kernelspec": {
   "display_name": "Python 3",
   "language": "python",
   "name": "python3"
  },
  "language_info": {
   "codemirror_mode": {
    "name": "ipython",
    "version": 3
   },
   "file_extension": ".py",
   "mimetype": "text/x-python",
   "name": "python",
   "nbconvert_exporter": "python",
   "pygments_lexer": "ipython3",
   "version": "3.7.6"
  }
 },
 "nbformat": 4,
 "nbformat_minor": 4
}
